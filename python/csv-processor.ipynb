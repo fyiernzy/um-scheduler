{
 "cells": [
  {
   "cell_type": "code",
   "execution_count": 1,
   "id": "f1cd2e6a",
   "metadata": {},
   "outputs": [
    {
     "name": "stderr",
     "output_type": "stream",
     "text": [
      "C:\\Users\\User\\anaconda3\\Lib\\site-packages\\pandas\\core\\arrays\\masked.py:60: UserWarning: Pandas requires version '1.3.6' or newer of 'bottleneck' (version '1.3.5' currently installed).\n",
      "  from pandas.core import (\n"
     ]
    },
    {
     "name": "stdout",
     "output_type": "stream",
     "text": [
      "JSON saved to course_data_final_fixed.json\n"
     ]
    },
    {
     "name": "stderr",
     "output_type": "stream",
     "text": [
      "C:\\Users\\User\\AppData\\Local\\Temp\\ipykernel_6992\\3982863672.py:43: DeprecationWarning: DataFrameGroupBy.apply operated on the grouping columns. This behavior is deprecated, and in a future version of pandas the grouping columns will be excluded from the operation. Either pass `include_groups=False` to exclude the groupings or explicitly select the grouping columns after groupby to silence this warning.\n",
      "  grouped_data = df_cleaned_filtered.groupby(['Course Code', 'Occurrence']).apply(\n",
      "C:\\Users\\User\\AppData\\Local\\Temp\\ipykernel_6992\\3982863672.py:48: DeprecationWarning: DataFrameGroupBy.apply operated on the grouping columns. This behavior is deprecated, and in a future version of pandas the grouping columns will be excluded from the operation. Either pass `include_groups=False` to exclude the groupings or explicitly select the grouping columns after groupby to silence this warning.\n",
      "  result_json = grouped_data.groupby('Course Code').apply(\n"
     ]
    }
   ],
   "source": [
    "import pandas as pd\n",
    "\n",
    "file_path = 'TimeEdit_GIG1003_ASAS_PEMBUDAYAAN_KEUSAHAWANAN_6_Module_7_2024-09-20_21_48.csv'\n",
    "   \n",
    "# Load the CSV and skip the first 3 lines, using the fourth line as the header\n",
    "df = pd.read_csv(file_path, skiprows=3)\n",
    "\n",
    "# Trim all column names\n",
    "df.columns = df.columns.str.strip()\n",
    "\n",
    "# Create 'Day' column from 'Begin date'\n",
    "df['Begin date'] = pd.to_datetime(df['Begin date'], format='%d/%m/%Y')\n",
    "df['Day'] = df['Begin date'].dt.strftime('%a')\n",
    "\n",
    "# Clean data: Drop unnecessary columns and duplicates\n",
    "df_cleaned = df.drop(columns=['Begin date', 'End date'], errors='ignore').drop_duplicates()\n",
    "\n",
    "# Convert 'Begin time' and 'End time' to formatted time and calculate 'Duration'\n",
    "df_cleaned['Begin time'] = pd.to_datetime(df_cleaned['Begin time'], format='%H:%M').dt.strftime('%I:%M %p')\n",
    "df_cleaned['End time'] = pd.to_datetime(df_cleaned['End time'], format='%H:%M').dt.strftime('%I:%M %p')\n",
    "\n",
    "# Correct duration calculation\n",
    "df_cleaned['Duration'] = (pd.to_datetime(df_cleaned['End time'], format='%I:%M %p') - \n",
    "                          pd.to_datetime(df_cleaned['Begin time'], format='%I:%M %p')).dt.total_seconds() / 60\n",
    "\n",
    "df_cleaned['Duration'] = df_cleaned['Duration'].apply(lambda x: f'{int(x // 60):02}:{int(x % 60):02}')\n",
    "\n",
    "# Filter out rows where 'Activity Type (exam)' is not null\n",
    "df_cleaned_filtered = df_cleaned[df_cleaned['Activity Type (exam)'].isnull()]\n",
    "\n",
    "# Split 'Module Offering' by comma and dash to extract Course Code and Occurrence\n",
    "df_cleaned_filtered = df_cleaned_filtered.assign(\n",
    "    **{'Module Offering': df_cleaned_filtered['Module Offering'].str.split(',')}\n",
    ").explode('Module Offering').reset_index(drop=True)\n",
    "\n",
    "df_cleaned_filtered[['Course Code', 'Year', 'Semester', 'Occurrence']] = df_cleaned_filtered['Module Offering'].str.split('/', expand=True)\n",
    "\n",
    "# Drop unneeded columns and rename 'Module' to 'Course Name'\n",
    "df_cleaned_filtered = df_cleaned_filtered.drop(columns=['Module Offering', 'Year', 'Semester', 'Activity Type (exam)'])\n",
    "df_cleaned_filtered = df_cleaned_filtered.rename(columns={'Module': 'Course Name'})\n",
    "\n",
    "# Group by Course Code, Occurrence, and Activity\n",
    "grouped_data = df_cleaned_filtered.groupby(['Course Code', 'Occurrence']).apply(\n",
    "    lambda x: x[['Activity', 'Day', 'Begin time', 'End time', 'Duration', 'Room']].to_dict(orient='records')\n",
    ").reset_index().rename(columns={0: 'Activities'})\n",
    "\n",
    "# Create the final JSON structure\n",
    "result_json = grouped_data.groupby('Course Code').apply(\n",
    "    lambda x: {\n",
    "        'Course Name': df_cleaned_filtered[df_cleaned_filtered['Course Code'] == x['Course Code'].iloc[0]]['Course Name'].iloc[0],\n",
    "        'Course Code': x['Course Code'].iloc[0],\n",
    "        'Occurrences': [{'Occurrence': occ, 'Activities': acts} for occ, acts in zip(x['Occurrence'], x['Activities'])]\n",
    "    }\n",
    ").reset_index(drop=True).to_json(orient='records', indent=4)\n",
    "\n",
    "# Save the result to a JSON file\n",
    "output_path = 'course_data.json'\n",
    "with open(output_path, 'w') as file:\n",
    "    file.write(result_json)\n",
    "\n",
    "print(f\"JSON saved to {output_path}\")\n"
   ]
  },
  {
   "cell_type": "code",
   "execution_count": null,
   "id": "b98aa030",
   "metadata": {},
   "outputs": [],
   "source": [
    "\n"
   ]
  }
 ],
 "metadata": {
  "kernelspec": {
   "display_name": "Python 3 (ipykernel)",
   "language": "python",
   "name": "python3"
  },
  "language_info": {
   "codemirror_mode": {
    "name": "ipython",
    "version": 3
   },
   "file_extension": ".py",
   "mimetype": "text/x-python",
   "name": "python",
   "nbconvert_exporter": "python",
   "pygments_lexer": "ipython3",
   "version": "3.11.5"
  },
  "varInspector": {
   "cols": {
    "lenName": 16,
    "lenType": 16,
    "lenVar": 40
   },
   "kernels_config": {
    "python": {
     "delete_cmd_postfix": "",
     "delete_cmd_prefix": "del ",
     "library": "var_list.py",
     "varRefreshCmd": "print(var_dic_list())"
    },
    "r": {
     "delete_cmd_postfix": ") ",
     "delete_cmd_prefix": "rm(",
     "library": "var_list.r",
     "varRefreshCmd": "cat(var_dic_list()) "
    }
   },
   "types_to_exclude": [
    "module",
    "function",
    "builtin_function_or_method",
    "instance",
    "_Feature"
   ],
   "window_display": false
  }
 },
 "nbformat": 4,
 "nbformat_minor": 5
}
